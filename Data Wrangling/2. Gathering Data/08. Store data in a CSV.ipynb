{
 "cells": [
  {
   "cell_type": "code",
   "execution_count": 1,
   "metadata": {},
   "outputs": [],
   "source": [
    "import pandas as pd"
   ]
  },
  {
   "cell_type": "code",
   "execution_count": 2,
   "metadata": {},
   "outputs": [],
   "source": [
    "###"
   ]
  },
  {
   "cell_type": "markdown",
   "metadata": {},
   "source": [
    "Imagine this notebook contains all of the gathering code from this entire lesson, plus the assessing and cleaning code done behind the scenes, and that the final product is a merged master DataFrame called *df*."
   ]
  },
  {
   "cell_type": "code",
   "execution_count": 3,
   "metadata": {},
   "outputs": [],
   "source": [
    "df = pd.read_csv('gathered_assessed_cleaned.csv')"
   ]
  },
  {
   "cell_type": "code",
   "execution_count": 4,
   "metadata": {},
   "outputs": [
    {
     "data": {
      "text/html": [
       "<div>\n",
       "<style scoped>\n",
       "    .dataframe tbody tr th:only-of-type {\n",
       "        vertical-align: middle;\n",
       "    }\n",
       "\n",
       "    .dataframe tbody tr th {\n",
       "        vertical-align: top;\n",
       "    }\n",
       "\n",
       "    .dataframe thead th {\n",
       "        text-align: right;\n",
       "    }\n",
       "</style>\n",
       "<table border=\"1\" class=\"dataframe\">\n",
       "  <thead>\n",
       "    <tr style=\"text-align: right;\">\n",
       "      <th></th>\n",
       "      <th>ranking</th>\n",
       "      <th>title</th>\n",
       "      <th>critic_score</th>\n",
       "      <th>number_of_critic_ratings</th>\n",
       "      <th>audience_score</th>\n",
       "      <th>number_of_audience_ratings</th>\n",
       "      <th>review_url</th>\n",
       "      <th>review_text</th>\n",
       "      <th>poster_url</th>\n",
       "    </tr>\n",
       "  </thead>\n",
       "  <tbody>\n",
       "    <tr>\n",
       "      <th>0</th>\n",
       "      <td>1</td>\n",
       "      <td>The Wizard of Oz (1939)</td>\n",
       "      <td>99</td>\n",
       "      <td>110</td>\n",
       "      <td>89</td>\n",
       "      <td>874425</td>\n",
       "      <td>http://www.rogerebert.com/reviews/great-movie-...</td>\n",
       "      <td>As a child I simply did not notice whether a m...</td>\n",
       "      <td>https://upload.wikimedia.org/wikipedia/commons...</td>\n",
       "    </tr>\n",
       "    <tr>\n",
       "      <th>1</th>\n",
       "      <td>2</td>\n",
       "      <td>Citizen Kane (1941)</td>\n",
       "      <td>100</td>\n",
       "      <td>75</td>\n",
       "      <td>90</td>\n",
       "      <td>157274</td>\n",
       "      <td>http://www.rogerebert.com/reviews/great-movie-...</td>\n",
       "      <td>“I don't think any word can explain a man's li...</td>\n",
       "      <td>https://upload.wikimedia.org/wikipedia/en/c/ce...</td>\n",
       "    </tr>\n",
       "    <tr>\n",
       "      <th>2</th>\n",
       "      <td>3</td>\n",
       "      <td>The Third Man (1949)</td>\n",
       "      <td>100</td>\n",
       "      <td>77</td>\n",
       "      <td>93</td>\n",
       "      <td>53081</td>\n",
       "      <td>http://www.rogerebert.com/reviews/great-movie-...</td>\n",
       "      <td>Has there ever been a film where the music mor...</td>\n",
       "      <td>https://upload.wikimedia.org/wikipedia/en/2/21...</td>\n",
       "    </tr>\n",
       "    <tr>\n",
       "      <th>3</th>\n",
       "      <td>4</td>\n",
       "      <td>Get Out (2017)</td>\n",
       "      <td>99</td>\n",
       "      <td>282</td>\n",
       "      <td>87</td>\n",
       "      <td>63837</td>\n",
       "      <td>http://www.rogerebert.com/reviews/get-out-2017</td>\n",
       "      <td>With the ambitious and challenging “Get Out,” ...</td>\n",
       "      <td>https://upload.wikimedia.org/wikipedia/en/e/eb...</td>\n",
       "    </tr>\n",
       "    <tr>\n",
       "      <th>4</th>\n",
       "      <td>5</td>\n",
       "      <td>Mad Max: Fury Road (2015)</td>\n",
       "      <td>97</td>\n",
       "      <td>370</td>\n",
       "      <td>86</td>\n",
       "      <td>123937</td>\n",
       "      <td>http://www.rogerebert.com/reviews/mad-max-fury...</td>\n",
       "      <td>George Miller’s “Mad Max” films didn’t just ma...</td>\n",
       "      <td>https://upload.wikimedia.org/wikipedia/en/6/6e...</td>\n",
       "    </tr>\n",
       "  </tbody>\n",
       "</table>\n",
       "</div>"
      ],
      "text/plain": [
       "   ranking                      title  critic_score  number_of_critic_ratings  \\\n",
       "0        1    The Wizard of Oz (1939)            99                       110   \n",
       "1        2        Citizen Kane (1941)           100                        75   \n",
       "2        3       The Third Man (1949)           100                        77   \n",
       "3        4             Get Out (2017)            99                       282   \n",
       "4        5  Mad Max: Fury Road (2015)            97                       370   \n",
       "\n",
       "   audience_score  number_of_audience_ratings  \\\n",
       "0              89                      874425   \n",
       "1              90                      157274   \n",
       "2              93                       53081   \n",
       "3              87                       63837   \n",
       "4              86                      123937   \n",
       "\n",
       "                                          review_url  \\\n",
       "0  http://www.rogerebert.com/reviews/great-movie-...   \n",
       "1  http://www.rogerebert.com/reviews/great-movie-...   \n",
       "2  http://www.rogerebert.com/reviews/great-movie-...   \n",
       "3     http://www.rogerebert.com/reviews/get-out-2017   \n",
       "4  http://www.rogerebert.com/reviews/mad-max-fury...   \n",
       "\n",
       "                                         review_text  \\\n",
       "0  As a child I simply did not notice whether a m...   \n",
       "1  “I don't think any word can explain a man's li...   \n",
       "2  Has there ever been a film where the music mor...   \n",
       "3  With the ambitious and challenging “Get Out,” ...   \n",
       "4  George Miller’s “Mad Max” films didn’t just ma...   \n",
       "\n",
       "                                          poster_url  \n",
       "0  https://upload.wikimedia.org/wikipedia/commons...  \n",
       "1  https://upload.wikimedia.org/wikipedia/en/c/ce...  \n",
       "2  https://upload.wikimedia.org/wikipedia/en/2/21...  \n",
       "3  https://upload.wikimedia.org/wikipedia/en/e/eb...  \n",
       "4  https://upload.wikimedia.org/wikipedia/en/6/6e...  "
      ]
     },
     "execution_count": 4,
     "metadata": {},
     "output_type": "execute_result"
    }
   ],
   "source": [
    "df.head()"
   ]
  },
  {
   "cell_type": "code",
   "execution_count": 5,
   "metadata": {},
   "outputs": [],
   "source": [
    "# Your code here\n",
    "# Save the master DataFrame to a file called 'bestofrt_master.csv'\n",
    "# Hint: watch out for the index!\n",
    "df.to_csv('bestofrt_master.csv', index=False)"
   ]
  },
  {
   "cell_type": "markdown",
   "metadata": {},
   "source": [
    "## Solution Test\n",
    "Run the cell below the see if your solution is correct. If an AssertionError is thrown, your solution is incorrect. If no error is thrown, your solution is correct."
   ]
  },
  {
   "cell_type": "code",
   "execution_count": 6,
   "metadata": {},
   "outputs": [],
   "source": [
    "import filecmp\n",
    "fc = filecmp.cmp('bestofrt_master_solution.csv',\n",
    "                 'bestofrt_master.csv')\n",
    "assert fc"
   ]
  }
 ],
 "metadata": {
  "kernelspec": {
   "display_name": "Python 3",
   "language": "python",
   "name": "python3"
  },
  "language_info": {
   "codemirror_mode": {
    "name": "ipython",
    "version": 3
   },
   "file_extension": ".py",
   "mimetype": "text/x-python",
   "name": "python",
   "nbconvert_exporter": "python",
   "pygments_lexer": "ipython3",
   "version": "3.6.3"
  }
 },
 "nbformat": 4,
 "nbformat_minor": 2
}
