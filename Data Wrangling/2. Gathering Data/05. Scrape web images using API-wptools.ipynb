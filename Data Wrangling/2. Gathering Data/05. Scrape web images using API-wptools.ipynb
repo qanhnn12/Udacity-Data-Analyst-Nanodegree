{
 "cells": [
  {
   "cell_type": "code",
   "execution_count": 1,
   "metadata": {},
   "outputs": [
    {
     "name": "stdout",
     "output_type": "stream",
     "text": [
      "Requirement already up-to-date: certifi in /opt/conda/lib/python3.6/site-packages (2023.5.7)\r\n"
     ]
    }
   ],
   "source": [
    "# script to upgrade certificate on this Workspace\n",
    "!pip install --upgrade certifi"
   ]
  },
  {
   "cell_type": "code",
   "execution_count": 2,
   "metadata": {},
   "outputs": [],
   "source": [
    "import wptools"
   ]
  },
  {
   "cell_type": "markdown",
   "metadata": {},
   "source": [
    "* To get a `page` object, the [usage]() is as follows: `page = wptools.page('Mahatma_Gandhi')`\n",
    "\n",
    "    where `'Mahatma_Gandhi'` is the last bit of the Wikipedia URL for that page (https://en.wikipedia.org/wiki/Mahatma_Gandhi). This `page` object has methods that can get us various pieces of data about that Wikipedia page, including all of the images on the page. \n",
    "    \n",
    "\n",
    "* To get all of the data: `page = wptools.page('Mahatma_Gandhi').get()`\n",
    "\n",
    "\n",
    "* Or if you already have a `page` object assigned to `page`: `page.get()`\n",
    "\n",
    "\n",
    "* `page` now has all attributes, which can be accessed using dot notation through `.data`. \n",
    "    For example, to get a list of data for six images on this specific Wikipedia page: `page.data['image']`"
   ]
  },
  {
   "cell_type": "code",
   "execution_count": 3,
   "metadata": {},
   "outputs": [
    {
     "name": "stderr",
     "output_type": "stream",
     "text": [
      "en.wikipedia.org (query) E.T._the_Extra-Terrestrial\n",
      "en.wikipedia.org (query) E.T. the Extra-Terrestrial (&plcontinue=...\n",
      "en.wikipedia.org (parse) 73441\n",
      "www.wikidata.org (wikidata) Q11621\n",
      "www.wikidata.org (labels) Q130232|P5021|P5128|Q377616|P3212|P2142...\n",
      "www.wikidata.org (labels) P1265|Q652644|P3804|Q3703465|P8889|Q165...\n",
      "www.wikidata.org (labels) Q7341915|Q11024|Q95415779|Q30|P86|P2756...\n",
      "www.wikidata.org (labels) P3650|Q977919|P9215|Q93605402|Q230390|P...\n",
      "www.wikidata.org (labels) Q20644795|Q65|P7118|Q251868|P4783|Q4886...\n",
      "www.wikidata.org (labels) P161|P11460|P921|P5970|P5099|P58|P2508|...\n",
      "en.wikipedia.org (restbase) /page/summary/E.T._the_Extra-Terrestrial\n",
      "en.wikipedia.org (imageinfo) File:The redwoods south of Crescent ...\n",
      "E.T. the Extra-Terrestrial (en) data\n",
      "{\n",
      "  WARNINGS: <dict(1)> extracts\n",
      "  aliases: <list(2)> E.T., ET\n",
      "  assessments: <dict(5)> United States, Film, Science Fiction, Lib...\n",
      "  claims: <dict(148)> P1562, P57, P272, P345, P31, P161, P373, P48...\n",
      "  description: 1982 film directed by Steven Spielberg\n",
      "  exhtml: <str(462)> <p><i><b>E.T. the Extra-Terrestrial</b></i> i...\n",
      "  exrest: <str(441)> E.T. the Extra-Terrestrial is a 1982 American...\n",
      "  extext: <str(2250)> _**E.T. the Extra-Terrestrial**_ (or simply ...\n",
      "  extract: <str(2376)> <p class=\"mw-empty-elt\"></p><p><i><b>E.T. t...\n",
      "  image: <list(4)> {'kind': 'parse-image', 'file': 'File:E t the e...\n",
      "  infobox: <dict(19)> name, image, alt, caption, director, produce...\n",
      "  iwlinks: <list(6)> https://commons.wikimedia.org/wiki/Category:E...\n",
      "  label: E.T. the Extra-Terrestrial\n",
      "  labels: <dict(273)> Q130232, P5021, P5128, Q377616, P3212, P2142...\n",
      "  length: 129,940\n",
      "  links: <list(780)> 10th Saturn Awards, 12 Angry Men (1957 film),...\n",
      "  modified: <dict(2)> page, wikidata\n",
      "  pageid: 73441\n",
      "  parsetree: <str(160992)> <root><template><title>short descriptio...\n",
      "  random: Elmezzi Graduate School of Molecular Medicine\n",
      "  redirects: <list(37)> {'pageid': 177061, 'ns': 0, 'title': 'E.T....\n",
      "  requests: <list(12)> query, query, parse, wikidata, labels, labe...\n",
      "  title: E.T._the_Extra-Terrestrial\n",
      "  url: https://en.wikipedia.org/wiki/E.T._the_Extra-Terrestrial\n",
      "  url_raw: <str(67)> https://en.wikipedia.org/wiki/E.T._the_Extra-...\n",
      "  watchers: 399\n",
      "  what: film\n",
      "  wikibase: Q11621\n",
      "  wikidata: <dict(148)> AllMovie title ID (P1562), director (P57),...\n",
      "  wikidata_pageid: 13150\n",
      "  wikidata_url: https://www.wikidata.org/wiki/Q11621\n",
      "  wikitext: <str(129108)> {{short description|1982 film directed b...\n",
      "}\n"
     ]
    }
   ],
   "source": [
    "# Your code here: get the E.T. page object\n",
    "# This cell make take a few seconds to run\n",
    "page = wptools.page('E.T._the_Extra-Terrestrial').get()"
   ]
  },
  {
   "cell_type": "code",
   "execution_count": 4,
   "metadata": {
    "scrolled": false
   },
   "outputs": [
    {
     "data": {
      "text/plain": [
       "[{'kind': 'parse-image',\n",
       "  'file': 'File:E t the extra terrestrial ver3.jpg',\n",
       "  'orig': 'E t the extra terrestrial ver3.jpg',\n",
       "  'timestamp': '2016-06-04T10:30:46Z',\n",
       "  'size': 83073,\n",
       "  'width': 253,\n",
       "  'height': 394,\n",
       "  'url': 'https://upload.wikimedia.org/wikipedia/en/6/66/E_t_the_extra_terrestrial_ver3.jpg',\n",
       "  'descriptionurl': 'https://en.wikipedia.org/wiki/File:E_t_the_extra_terrestrial_ver3.jpg',\n",
       "  'descriptionshorturl': 'https://en.wikipedia.org/w/index.php?curid=7419503',\n",
       "  'title': 'File:E t the extra terrestrial ver3.jpg',\n",
       "  'metadata': {'DateTime': {'value': '2016-06-04 10:30:46',\n",
       "    'source': 'mediawiki-metadata',\n",
       "    'hidden': ''},\n",
       "   'ObjectName': {'value': 'E t the extra terrestrial ver3',\n",
       "    'source': 'mediawiki-metadata'},\n",
       "   'CommonsMetadataExtension': {'value': 1.2,\n",
       "    'source': 'extension',\n",
       "    'hidden': ''},\n",
       "   'Categories': {'value': 'All non-free media|E.T. the Extra-Terrestrial|Fair use images of film posters|Files with no machine-readable author|Noindexed pages|Pages using Non-free use rationale poster with unknown parameters|Wikipedia non-free files for NFUR review|Wikipedia non-free files with valid backlink',\n",
       "    'source': 'commons-categories',\n",
       "    'hidden': ''},\n",
       "   'Assessments': {'value': '', 'source': 'commons-categories', 'hidden': ''},\n",
       "   'ImageDescription': {'value': '<p>This is a poster for  <i>E.T. the Extra-Terrestrial</i>.<br>The poster art copyright is believed to belong to <a href=\"//en.wikipedia.org/wiki/John_Alvin\" title=\"John Alvin\">John Alvin</a>.\\n</p>',\n",
       "    'source': 'commons-desc-page'},\n",
       "   'Credit': {'value': '<p>The poster art can or could be obtained from <a href=\"//en.wikipedia.org/wiki/John_Alvin\" title=\"John Alvin\">John Alvin</a>.\\n</p>',\n",
       "    'source': 'commons-desc-page'},\n",
       "   'LicenseShortName': {'value': 'Fair use',\n",
       "    'source': 'commons-desc-page',\n",
       "    'hidden': ''},\n",
       "   'UsageTerms': {'value': '<a href=\"//en.wikipedia.org/wiki/Wikipedia:Non-free_use_rationale_guideline\" title=\"Wikipedia:Non-free use rationale guideline\">Fair use</a> of copyrighted material in the context of <a href=\"//en.wikipedia.org/wiki/E.T._the_Extra-Terrestrial\" title=\"E.T. the Extra-Terrestrial\">E.T. the Extra-Terrestrial</a>',\n",
       "    'source': 'commons-desc-page'},\n",
       "   'Attribution': {'value': '<p>The poster art can or could be obtained from <a href=\"//en.wikipedia.org/wiki/John_Alvin\" title=\"John Alvin\">John Alvin</a>.\\n</p>',\n",
       "    'source': 'commons-desc-page',\n",
       "    'hidden': ''},\n",
       "   'LicenseUrl': {'value': '//en.wikipedia.org/wiki/File:E_t_the_extra_terrestrial_ver3.jpg',\n",
       "    'source': 'commons-desc-page'},\n",
       "   'NonFree': {'value': 'true', 'source': 'commons-desc-page', 'hidden': ''},\n",
       "   'Copyrighted': {'value': 'True',\n",
       "    'source': 'commons-desc-page',\n",
       "    'hidden': ''},\n",
       "   'Restrictions': {'value': '',\n",
       "    'source': 'commons-desc-page',\n",
       "    'hidden': ''}}},\n",
       " {'file': 'File:The redwoods south of Crescent City (21745029380).jpg',\n",
       "  'kind': 'wikidata-image',\n",
       "  'orig': 'The redwoods south of Crescent City (21745029380).jpg',\n",
       "  'timestamp': '2018-02-23T14:09:52Z',\n",
       "  'size': 3254906,\n",
       "  'width': 2048,\n",
       "  'height': 1536,\n",
       "  'url': 'https://upload.wikimedia.org/wikipedia/commons/9/90/The_redwoods_south_of_Crescent_City_%2821745029380%29.jpg',\n",
       "  'descriptionurl': 'https://commons.wikimedia.org/wiki/File:The_redwoods_south_of_Crescent_City_(21745029380).jpg',\n",
       "  'descriptionshorturl': 'https://commons.wikimedia.org/w/index.php?curid=66732070',\n",
       "  'title': 'File:The redwoods south of Crescent City (21745029380).jpg',\n",
       "  'metadata': {'DateTime': {'value': '2018-02-23 14:09:52',\n",
       "    'source': 'mediawiki-metadata',\n",
       "    'hidden': ''},\n",
       "   'ObjectName': {'value': 'The redwoods south of Crescent City (21745029380)',\n",
       "    'source': 'mediawiki-metadata'},\n",
       "   'CommonsMetadataExtension': {'value': 1.2,\n",
       "    'source': 'extension',\n",
       "    'hidden': ''},\n",
       "   'Categories': {'value': 'Files uploaded by Artix Kreiger|Flickr images reviewed by FlickreviewR 2|Pages with maps|Western United States',\n",
       "    'source': 'commons-categories',\n",
       "    'hidden': ''},\n",
       "   'Assessments': {'value': '', 'source': 'commons-categories', 'hidden': ''},\n",
       "   'GPSLatitude': {'value': '41.331451', 'source': 'commons-desc-page'},\n",
       "   'GPSLongitude': {'value': '-124.034957', 'source': 'commons-desc-page'},\n",
       "   'GPSMapDatum': {'value': 'WGS-84',\n",
       "    'source': 'commons-desc-page',\n",
       "    'hidden': ''},\n",
       "   'ImageDescription': {'value': 'The redwoods south of Crescent City',\n",
       "    'source': 'commons-desc-page'},\n",
       "   'DateTimeOriginal': {'value': '2015-10-04 01:20',\n",
       "    'source': 'commons-desc-page'},\n",
       "   'Credit': {'value': '<a rel=\"nofollow\" class=\"external text\" href=\"https://www.flickr.com/photos/theslowlane/21745029380/\">The redwoods south of Crescent City</a>',\n",
       "    'source': 'commons-desc-page'},\n",
       "   'Artist': {'value': '<a rel=\"nofollow\" class=\"external text\" href=\"https://www.flickr.com/people/90536753@N00\">Robert Ashworth</a> from Bellingham, WA., USA',\n",
       "    'source': 'commons-desc-page'},\n",
       "   'LicenseShortName': {'value': 'CC BY 2.0',\n",
       "    'source': 'commons-desc-page',\n",
       "    'hidden': ''},\n",
       "   'UsageTerms': {'value': 'Creative Commons Attribution 2.0',\n",
       "    'source': 'commons-desc-page'},\n",
       "   'AttributionRequired': {'value': 'true',\n",
       "    'source': 'commons-desc-page',\n",
       "    'hidden': ''},\n",
       "   'LicenseUrl': {'value': 'https://creativecommons.org/licenses/by/2.0',\n",
       "    'source': 'commons-desc-page'},\n",
       "   'Copyrighted': {'value': 'True',\n",
       "    'source': 'commons-desc-page',\n",
       "    'hidden': ''},\n",
       "   'Restrictions': {'value': '', 'source': 'commons-desc-page', 'hidden': ''},\n",
       "   'License': {'value': 'cc-by-2.0',\n",
       "    'source': 'commons-templates',\n",
       "    'hidden': ''}}},\n",
       " {'kind': 'restbase-original',\n",
       "  'width': 253,\n",
       "  'height': 394,\n",
       "  'url': 'https://upload.wikimedia.org/wikipedia/en/6/66/E_t_the_extra_terrestrial_ver3.jpg',\n",
       "  'file': 'File:E t the extra terrestrial ver3.jpg',\n",
       "  'orig': 'E_t_the_extra_terrestrial_ver3.jpg'},\n",
       " {'kind': 'restbase-thumb',\n",
       "  'width': 253,\n",
       "  'height': 394,\n",
       "  'url': 'https://upload.wikimedia.org/wikipedia/en/6/66/E_t_the_extra_terrestrial_ver3.jpg',\n",
       "  'file': 'File:E t the extra terrestrial ver3.jpg',\n",
       "  'orig': 'E_t_the_extra_terrestrial_ver3.jpg'}]"
      ]
     },
     "execution_count": 4,
     "metadata": {},
     "output_type": "execute_result"
    }
   ],
   "source": [
    "# Accessing the image attribute will return the images for this page\n",
    "page.data['image']"
   ]
  }
 ],
 "metadata": {
  "kernelspec": {
   "display_name": "Python 3",
   "language": "python",
   "name": "python3"
  },
  "language_info": {
   "codemirror_mode": {
    "name": "ipython",
    "version": 3
   },
   "file_extension": ".py",
   "mimetype": "text/x-python",
   "name": "python",
   "nbconvert_exporter": "python",
   "pygments_lexer": "ipython3",
   "version": "3.6.3"
  }
 },
 "nbformat": 4,
 "nbformat_minor": 2
}
