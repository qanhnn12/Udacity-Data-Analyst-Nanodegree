{
 "cells": [
  {
   "cell_type": "code",
   "execution_count": 1,
   "metadata": {},
   "outputs": [],
   "source": [
    "import wptools"
   ]
  },
  {
   "cell_type": "markdown",
   "metadata": {},
   "source": [
    "JSON files can be accessed in Python just like dictionaries and lists because:\n",
    "* JSON objects are interpreted as dictionaries \n",
    "* JSON arrays are interpreted as lists.\n",
    "\n"
   ]
  },
  {
   "cell_type": "code",
   "execution_count": 2,
   "metadata": {},
   "outputs": [
    {
     "name": "stderr",
     "output_type": "stream",
     "text": [
      "en.wikipedia.org (query) E.T._the_Extra-Terrestrial\n",
      "en.wikipedia.org (query) E.T. the Extra-Terrestrial (&plcontinue=...\n",
      "en.wikipedia.org (parse) 73441\n",
      "www.wikidata.org (wikidata) Q11621\n",
      "www.wikidata.org (labels) Q34644|P3141|Q464522|Q787098|Q918617|P7...\n",
      "www.wikidata.org (labels) P8189|Q435696|P3933|P214|P268|P437|Q830...\n",
      "www.wikidata.org (labels) P344|Q1044183|P3138|P1981|Q105776216|P9...\n",
      "www.wikidata.org (labels) P9979|Q377616|Q977919|P1015|P1712|Q1142...\n",
      "www.wikidata.org (labels) P3995|P9586|Q8555|Q52692410|P1343|P5253...\n",
      "www.wikidata.org (labels) Q3703465|Q41417|Q471839|P3077|Q10414438...\n",
      "en.wikipedia.org (restbase) /page/summary/E.T._the_Extra-Terrestrial\n",
      "en.wikipedia.org (imageinfo) File:E t the extra terrestrial ver3....\n",
      "E.T. the Extra-Terrestrial (en) data\n",
      "{\n",
      "  WARNINGS: <dict(1)> extracts\n",
      "  aliases: <list(2)> E.T., ET\n",
      "  assessments: <dict(5)> United States, Film, Science Fiction, Lib...\n",
      "  claims: <dict(148)> P1562, P57, P272, P345, P31, P161, P373, P48...\n",
      "  description: 1982 film directed by Steven Spielberg\n",
      "  exhtml: <str(462)> <p><i><b>E.T. the Extra-Terrestrial</b></i> i...\n",
      "  exrest: <str(441)> E.T. the Extra-Terrestrial is a 1982 American...\n",
      "  extext: <str(2250)> _**E.T. the Extra-Terrestrial**_ (or simply ...\n",
      "  extract: <str(2376)> <p class=\"mw-empty-elt\"></p><p><i><b>E.T. t...\n",
      "  image: <list(4)> {'kind': 'parse-image', 'file': 'File:E t the e...\n",
      "  infobox: <dict(19)> name, image, alt, caption, director, produce...\n",
      "  iwlinks: <list(6)> https://commons.wikimedia.org/wiki/Category:E...\n",
      "  label: E.T. the Extra-Terrestrial\n",
      "  labels: <dict(273)> Q34644, P3141, Q464522, Q787098, Q918617, P7...\n",
      "  length: 129,940\n",
      "  links: <list(780)> 10th Saturn Awards, 12 Angry Men (1957 film),...\n",
      "  modified: <dict(2)> page, wikidata\n",
      "  pageid: 73441\n",
      "  parsetree: <str(160992)> <root><template><title>short descriptio...\n",
      "  random: John Mackey (American football)\n",
      "  redirects: <list(37)> {'pageid': 177061, 'ns': 0, 'title': 'E.T....\n",
      "  requests: <list(12)> query, query, parse, wikidata, labels, labe...\n",
      "  title: E.T._the_Extra-Terrestrial\n",
      "  url: https://en.wikipedia.org/wiki/E.T._the_Extra-Terrestrial\n",
      "  url_raw: <str(67)> https://en.wikipedia.org/wiki/E.T._the_Extra-...\n",
      "  watchers: 399\n",
      "  what: film\n",
      "  wikibase: Q11621\n",
      "  wikidata: <dict(148)> AllMovie title ID (P1562), director (P57),...\n",
      "  wikidata_pageid: 13150\n",
      "  wikidata_url: https://www.wikidata.org/wiki/Q11621\n",
      "  wikitext: <str(129108)> {{short description|1982 film directed b...\n",
      "}\n"
     ]
    }
   ],
   "source": [
    "page = wptools.page('E.T._the_Extra-Terrestrial').get()"
   ]
  },
  {
   "cell_type": "markdown",
   "metadata": {},
   "source": [
    "## Quiz 1\n",
    "Access the first image in the images attribute, which is a JSON array."
   ]
  },
  {
   "cell_type": "code",
   "execution_count": 3,
   "metadata": {},
   "outputs": [
    {
     "data": {
      "text/plain": [
       "{'kind': 'parse-image',\n",
       " 'file': 'File:E t the extra terrestrial ver3.jpg',\n",
       " 'orig': 'E t the extra terrestrial ver3.jpg',\n",
       " 'timestamp': '2016-06-04T10:30:46Z',\n",
       " 'size': 83073,\n",
       " 'width': 253,\n",
       " 'height': 394,\n",
       " 'url': 'https://upload.wikimedia.org/wikipedia/en/6/66/E_t_the_extra_terrestrial_ver3.jpg',\n",
       " 'descriptionurl': 'https://en.wikipedia.org/wiki/File:E_t_the_extra_terrestrial_ver3.jpg',\n",
       " 'descriptionshorturl': 'https://en.wikipedia.org/w/index.php?curid=7419503',\n",
       " 'title': 'File:E t the extra terrestrial ver3.jpg',\n",
       " 'metadata': {'DateTime': {'value': '2016-06-04 10:30:46',\n",
       "   'source': 'mediawiki-metadata',\n",
       "   'hidden': ''},\n",
       "  'ObjectName': {'value': 'E t the extra terrestrial ver3',\n",
       "   'source': 'mediawiki-metadata'},\n",
       "  'CommonsMetadataExtension': {'value': 1.2,\n",
       "   'source': 'extension',\n",
       "   'hidden': ''},\n",
       "  'Categories': {'value': 'All non-free media|E.T. the Extra-Terrestrial|Fair use images of film posters|Files with no machine-readable author|Noindexed pages|Pages using Non-free use rationale poster with unknown parameters|Wikipedia non-free files for NFUR review|Wikipedia non-free files with valid backlink',\n",
       "   'source': 'commons-categories',\n",
       "   'hidden': ''},\n",
       "  'Assessments': {'value': '', 'source': 'commons-categories', 'hidden': ''},\n",
       "  'ImageDescription': {'value': '<p>This is a poster for  <i>E.T. the Extra-Terrestrial</i>.<br>The poster art copyright is believed to belong to <a href=\"//en.wikipedia.org/wiki/John_Alvin\" title=\"John Alvin\">John Alvin</a>.\\n</p>',\n",
       "   'source': 'commons-desc-page'},\n",
       "  'Credit': {'value': '<p>The poster art can or could be obtained from <a href=\"//en.wikipedia.org/wiki/John_Alvin\" title=\"John Alvin\">John Alvin</a>.\\n</p>',\n",
       "   'source': 'commons-desc-page'},\n",
       "  'LicenseShortName': {'value': 'Fair use',\n",
       "   'source': 'commons-desc-page',\n",
       "   'hidden': ''},\n",
       "  'UsageTerms': {'value': '<a href=\"//en.wikipedia.org/wiki/Wikipedia:Non-free_use_rationale_guideline\" title=\"Wikipedia:Non-free use rationale guideline\">Fair use</a> of copyrighted material in the context of <a href=\"//en.wikipedia.org/wiki/E.T._the_Extra-Terrestrial\" title=\"E.T. the Extra-Terrestrial\">E.T. the Extra-Terrestrial</a>',\n",
       "   'source': 'commons-desc-page'},\n",
       "  'Attribution': {'value': '<p>The poster art can or could be obtained from <a href=\"//en.wikipedia.org/wiki/John_Alvin\" title=\"John Alvin\">John Alvin</a>.\\n</p>',\n",
       "   'source': 'commons-desc-page',\n",
       "   'hidden': ''},\n",
       "  'LicenseUrl': {'value': '//en.wikipedia.org/wiki/File:E_t_the_extra_terrestrial_ver3.jpg',\n",
       "   'source': 'commons-desc-page'},\n",
       "  'NonFree': {'value': 'true', 'source': 'commons-desc-page', 'hidden': ''},\n",
       "  'Copyrighted': {'value': 'True',\n",
       "   'source': 'commons-desc-page',\n",
       "   'hidden': ''},\n",
       "  'Restrictions': {'value': '', 'source': 'commons-desc-page', 'hidden': ''}}}"
      ]
     },
     "execution_count": 3,
     "metadata": {},
     "output_type": "execute_result"
    }
   ],
   "source": [
    "page.data['image'][0]"
   ]
  },
  {
   "cell_type": "markdown",
   "metadata": {},
   "source": [
    "## Quiz 2\n",
    "Access the director key of the infobox attribute, which is a JSON object."
   ]
  },
  {
   "cell_type": "code",
   "execution_count": 4,
   "metadata": {},
   "outputs": [
    {
     "data": {
      "text/plain": [
       "'[[Steven Spielberg]]'"
      ]
     },
     "execution_count": 4,
     "metadata": {},
     "output_type": "execute_result"
    }
   ],
   "source": [
    "page.data['infobox']['director']"
   ]
  }
 ],
 "metadata": {
  "kernelspec": {
   "display_name": "Python 3",
   "language": "python",
   "name": "python3"
  },
  "language_info": {
   "codemirror_mode": {
    "name": "ipython",
    "version": 3
   },
   "file_extension": ".py",
   "mimetype": "text/x-python",
   "name": "python",
   "nbconvert_exporter": "python",
   "pygments_lexer": "ipython3",
   "version": "3.6.3"
  }
 },
 "nbformat": 4,
 "nbformat_minor": 2
}
